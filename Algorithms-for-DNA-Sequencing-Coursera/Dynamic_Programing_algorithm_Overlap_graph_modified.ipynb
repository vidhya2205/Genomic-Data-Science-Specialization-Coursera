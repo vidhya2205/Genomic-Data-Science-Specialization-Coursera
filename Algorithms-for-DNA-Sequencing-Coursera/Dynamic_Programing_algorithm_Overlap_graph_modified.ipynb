{
 "cells": [
  {
   "cell_type": "code",
   "execution_count": 2,
   "id": "ef879b1a-a753-47a1-af17-19549c859e08",
   "metadata": {},
   "outputs": [],
   "source": [
    "def DynamicrProgramming(x, y):\n",
    "    \"\"\"Retuns the edit distance between 2 strings\"\"\"\n",
    "    # Create distance matrix\n",
    "    D = []\n",
    "    for i in range(len(x)+1):\n",
    "        D.append([0]*(len(y)+1))\n",
    "    # Initialize first column of matrix\n",
    "    for i in range(len(x)+1):\n",
    "        D[i][0] = i\n",
    "    #for i in range(len(y)+1):\n",
    "    #    D[0][i] = i\n",
    "    # Fill in the rest of the matrix\n",
    "    for i in range(1, len(x)+1):\n",
    "        for j in range(1, len(y)+1):\n",
    "            distHor = D[i][j-1] + 1\n",
    "            distVer = D[i-1][j] + 1\n",
    "            if x[i-1] == y[j-1]:\n",
    "                distDiag = D[i-1][j-1]\n",
    "            else:\n",
    "                distDiag = D[i-1][j-1] + 1\n",
    "            D[i][j] = min(distHor, distVer, distDiag)\n",
    "    # Edit distance is the value in the bottom right corner of the matrix\n",
    "    return (min(D[len(x)-1]))"
   ]
  },
  {
   "cell_type": "code",
   "execution_count": 3,
   "id": "b5a8b056-a7ee-46d5-9d75-6250c813c4ae",
   "metadata": {},
   "outputs": [
    {
     "data": {
      "text/plain": [
       "2"
      ]
     },
     "execution_count": 3,
     "metadata": {},
     "output_type": "execute_result"
    }
   ],
   "source": [
    "#Testing the Dynamic Programing algorithm\n",
    "P =\"GCGTATGC\"\n",
    "T =\"TATTGGCTATACGGT\"\n",
    "DynamicrProgramming(P,T)"
   ]
  },
  {
   "cell_type": "code",
   "execution_count": 9,
   "id": "5bf6fa63-1ff2-42e9-880f-52ab9ec870f1",
   "metadata": {},
   "outputs": [],
   "source": [
    "#Modified overlap module to the get the pair of all reads that have a minimum overlap of 2 and kmer based checking\n",
    "def readFastq(filename):\n",
    "    \"\"\"Reads the Fasta file and returns the reads and read quality\"\"\"\n",
    "    sequences = []\n",
    "    qualities = []\n",
    "    with open(filename) as fh:\n",
    "        while True:\n",
    "            fh.readline()  # skip name line\n",
    "            seq = fh.readline().rstrip()  # read base sequence\n",
    "            fh.readline()  # skip placeholder line\n",
    "            qual = fh.readline().rstrip() # base quality line\n",
    "            if len(seq) == 0:\n",
    "                break\n",
    "            sequences.append(seq)\n",
    "            qualities.append(qual)\n",
    "    return sequences, qualities\n",
    "\n",
    "def overlap(a, b, min_length=3):\n",
    "    \"\"\" Return length of longest suffix of 'a' matching\n",
    "        a prefix of 'b' that is at least 'min_length'\n",
    "        characters long.  If no such overlap exists,\n",
    "        return 0. \"\"\"\n",
    "    start = 0  # start all the way at the left\n",
    "    while True:\n",
    "        start = a.find(b[:min_length], start)  # look for b's prefix in a\n",
    "        if start == -1:  # no more occurrences to right\n",
    "            return 0\n",
    "        # found occurrence; check for full suffix/prefix match\n",
    "        if b.startswith(a[start:]):\n",
    "            return len(a)-start\n",
    "        start += 1  # move just past previous match\n",
    "\n",
    "def overlap_all_pairs(reads, k): \n",
    "    \"\"\"Returns all the pairs of reads that have an overlap of k between them\"\"\"\n",
    "    kmer_dict = {}\n",
    "    for read in reads:\n",
    "        for i in range(len(read) - k + 1):\n",
    "            kmer = read[i:i+k]  # extract the k-mer\n",
    "            if kmer not in kmer_dict:\n",
    "                kmer_dict[kmer] = set()  # create a new set if the k-mer is not in the dict\n",
    "            kmer_dict[kmer].add(read)  # add the read to the set for that k-mer\n",
    "    \n",
    "    olaps = [] # set of overlaps\n",
    "    for read in reads:\n",
    "        a= read[-k:]\n",
    "        if a in kmer_dict:\n",
    "            b_set= kmer_dict[a]\n",
    "            for b in b_set:\n",
    "                if b != read:\n",
    "                    olen = overlap(read, b, k)\n",
    "                    if olen > 0:\n",
    "                        olaps.append((read, b))\n",
    "    return olaps, kmer_dict"
   ]
  },
  {
   "cell_type": "code",
   "execution_count": 8,
   "id": "34db286e-8d3a-450c-a5b2-5bc217a5e434",
   "metadata": {},
   "outputs": [
    {
     "name": "stdout",
     "output_type": "stream",
     "text": [
      "The strings that have a minimum overlap of 3 are [('ABCDE', 'CDEFG'), ('CDEFG', 'EFGHI'), ('CDEFG', 'EFGLK'), ('EFGHI', 'GHIJK')]\n",
      "No of edges in the overlap graph : 4\n",
      "The strings that have a minimum overlap of 3 are [('ABCDE', 'CDEFG'), ('CDEFG', 'EFGHI'), ('CDEFG', 'EFGLK'), ('EFGHI', 'GHIJK')]\n",
      "No of edges in the graph : 4\n"
     ]
    },
    {
     "data": {
      "text/plain": [
       "3"
      ]
     },
     "execution_count": 8,
     "metadata": {},
     "output_type": "execute_result"
    }
   ],
   "source": [
    "#Testing the overlap_all_pairs function to get the list of all overlaps in a set of strings with minimum overlap of k\n",
    "reads = ['ABCDE', 'CDEFG', 'EFGHI', 'GHIJK','EFGLK']\n",
    "overlap_pairs,kmer_dict = overlap_all_pairs(reads, 3)\n",
    "print(\"The strings that have a minimum overlap of 3 are\",overlap_pairs)\n",
    "print (\"No of edges in the overlap graph :\", len(overlap_pairs))\n",
    "\n",
    "#To get the number of nodes with outgoing edges:\n",
    "reads = ['ABCDE', 'CDEFG', 'EFGHI', 'GHIJK','EFGLK']\n",
    "overlap_pairs,kmer_dict = overlap_all_pairs(reads, 3)\n",
    "print(\"The strings that have a minimum overlap of 3 are\",overlap_pairs)\n",
    "print (\"No of edges in the graph :\", len(overlap_pairs))\n",
    "reads_with_outgoing_edges = (set(pair[0] for pair in overlap_pairs))\n",
    "len(reads_with_outgoing_edges)"
   ]
  },
  {
   "cell_type": "code",
   "execution_count": 10,
   "id": "ccbf1b83-fc8d-4955-b97d-3db36e9ca52f",
   "metadata": {},
   "outputs": [
    {
     "name": "stderr",
     "output_type": "stream",
     "text": [
      "  % Total    % Received % Xferd  Average Speed   Time    Time     Time  Current\n",
      "                                 Dload  Upload   Total   Spent    Left  Speed\n",
      "\n",
      "  0     0    0     0    0     0      0      0 --:--:-- --:--:-- --:--:--     0\n",
      "100 2502k  100 2502k    0     0  8121k      0 --:--:-- --:--:-- --:--:-- 8287k\n"
     ]
    },
    {
     "name": "stdout",
     "output_type": "stream",
     "text": [
      "No of edges in the graph : 904746\n",
      "No of nodes with outgoing edges in the graph : 7161\n"
     ]
    }
   ],
   "source": [
    "!curl -o ERR266411_1.for_asm.fastq https://d28rh4a8wq0iu5.cloudfront.net/ads1/data/ERR266411_1.for_asm.fastq\n",
    "\n",
    "seqs, qual = readFastq('ERR266411_1.for_asm.fastq')\n",
    "\n",
    "overlap_pairs,kmer_dict = overlap_all_pairs(seqs, 30)\n",
    "print (\"No of edges in the graph :\", len(overlap_pairs))\n",
    "\n",
    "reads_with_outgoing_edges = set(pair[0] for pair in overlap_pairs)\n",
    "print (\"No of nodes with outgoing edges in the graph :\", len(reads_with_outgoing_edges))"
   ]
  }
 ],
 "metadata": {
  "kernelspec": {
   "display_name": "Python 3 (ipykernel)",
   "language": "python",
   "name": "python3"
  },
  "language_info": {
   "codemirror_mode": {
    "name": "ipython",
    "version": 3
   },
   "file_extension": ".py",
   "mimetype": "text/x-python",
   "name": "python",
   "nbconvert_exporter": "python",
   "pygments_lexer": "ipython3",
   "version": "3.12.2"
  }
 },
 "nbformat": 4,
 "nbformat_minor": 5
}
