{
 "cells": [
  {
   "cell_type": "code",
   "execution_count": 1,
   "id": "97bf078d-b484-42f8-87fb-34f1ad3b7fb3",
   "metadata": {},
   "outputs": [],
   "source": [
    "def overlap(a, b, min_length=3):\n",
    "    \"\"\" Return length of longest suffix of 'a' matching\n",
    "        a prefix of 'b' that is at least 'min_length'\n",
    "        characters long.  If no such overlap exists,\n",
    "        return 0. \"\"\"\n",
    "    start = 0  # start all the way at the left\n",
    "    while True:\n",
    "        start = a.find(b[:min_length], start)  # look for b's suffx in a\n",
    "        if start == -1:  # no more occurrences to right\n",
    "            return 0\n",
    "        # found occurrence; check for full suffix/prefix match\n",
    "        if b.startswith(a[start:]):\n",
    "            return len(a)-start\n",
    "        start += 1  # move just past previous match\n",
    "\n",
    "import itertools\n",
    "\n",
    "def scs(ss):\n",
    "    \"\"\" Returns shortest common superstring of given\n",
    "        strings, which must be the same length \"\"\"\n",
    "    shortest_sup = None\n",
    "    for ssperm in itertools.permutations(ss):\n",
    "        sup = ssperm[0]  # superstring starts as first string\n",
    "        for i in range(len(ss)-1):\n",
    "            # overlap adjacent strings A and B in the permutation\n",
    "            olen = overlap(ssperm[i], ssperm[i+1], min_length=1)\n",
    "            # add non-overlapping portion of B to superstring\n",
    "            sup += ssperm[i+1][olen:]\n",
    "        if shortest_sup is None or len(sup) < len(shortest_sup):\n",
    "            shortest_sup = sup  # found shorter superstring\n",
    "    return shortest_sup  # return shortest"
   ]
  },
  {
   "cell_type": "code",
   "execution_count": 6,
   "id": "8ac05f24-19e9-4d10-883b-ffab50746f6c",
   "metadata": {},
   "outputs": [
    {
     "name": "stdout",
     "output_type": "stream",
     "text": [
      "The shortest common superstrings from the set of strings {'ABC','BCA','CAB'} is ABCAB\n"
     ]
    }
   ],
   "source": [
    "shortest_common_superstring=scs([ 'ABC','BCA','CAB'])\n",
    "print(\"The shortest common superstrings from the set of strings {'ABC','BCA','CAB'} is\", shortest_common_superstring)"
   ]
  },
  {
   "cell_type": "code",
   "execution_count": 10,
   "id": "177031d5-65fc-489b-8a0d-67296cb9309a",
   "metadata": {},
   "outputs": [
    {
     "name": "stdout",
     "output_type": "stream",
     "text": [
      "Thelength of the shortest common superstrings from the set of strings {'CCT','TGC','TGG','GAT','ATT'} is 10\n"
     ]
    }
   ],
   "source": [
    "length_SCS=len(scs(['CCT','TGC','TGG','GAT','ATT']))\n",
    "print(\"The length of the shortest common superstrings from the set of strings {'CCT','TGC','TGG','GAT','ATT'} is\", length_SCS)"
   ]
  },
  {
   "cell_type": "code",
   "execution_count": 4,
   "id": "dfc19d6d-2567-4cb7-ac07-896664d58d35",
   "metadata": {},
   "outputs": [],
   "source": [
    "import itertools\n",
    "\n",
    "def scs_list(ss):\n",
    "    \"\"\" Returns a list of all shortest common superstring of given\n",
    "        strings, which must be the same length \"\"\"\n",
    "    shortest_sup = []\n",
    "    shortest_len = None\n",
    "    for ssperm in itertools.permutations(ss):\n",
    "        sup = ssperm[0]  # superstring starts as first string\n",
    "        for i in range(len(ss)-1):\n",
    "            # overlap adjacent strings A and B in the permutation\n",
    "            olen = overlap(ssperm[i], ssperm[i+1], min_length=1)\n",
    "            # add non-overlapping portion of B to superstring\n",
    "            sup += ssperm[i+1][olen:]\n",
    "        if shortest_len is None or len(sup) < shortest_len:\n",
    "            shortest_len = len(sup)\n",
    "            shortest_sup = [sup]  # reset to the new shortest superstring\n",
    "        elif len(sup) == shortest_len:\n",
    "            shortest_sup.append(sup)\n",
    "    return shortest_sup  # return shortest"
   ]
  },
  {
   "cell_type": "code",
   "execution_count": 11,
   "id": "2a7edcbf-93de-4ca4-af4c-fb67ced768e4",
   "metadata": {},
   "outputs": [
    {
     "name": "stdout",
     "output_type": "stream",
     "text": [
      "The shortest common superstrings from the set of strings {'ABC','BCA','CAB'} using scs algorithm: ABCAB\n",
      "The shortest common superstrings from the set of strings {'ABC','BCA','CAB'} using scs_list algorithm: ['ABCAB', 'BCABC', 'CABCA']\n"
     ]
    }
   ],
   "source": [
    "# Returns just one shortest superstring\n",
    "strings = ['ABC', 'BCA', 'CAB']\n",
    "shortest_common_superstring=scs(strings)\n",
    "list_scs=scs_list(strings)\n",
    "print(\"The shortest common superstrings from the set of strings {'ABC','BCA','CAB'} using scs algorithm:\", shortest_common_superstring)\n",
    "print(\"The shortest common superstrings from the set of strings {'ABC','BCA','CAB'} using scs_list algorithm:\", list_scs)"
   ]
  },
  {
   "cell_type": "code",
   "execution_count": 17,
   "id": "f36b451d-0e5c-42ac-9cb2-e0a6e5223196",
   "metadata": {},
   "outputs": [
    {
     "name": "stderr",
     "output_type": "stream",
     "text": [
      "  % Total    % Received % Xferd  Average Speed   Time    Time     Time  Current\n",
      "                                 Dload  Upload   Total   Spent    Left  Speed\n",
      "\n",
      "  0     0    0     0    0     0      0      0 --:--:-- --:--:-- --:--:--     0\n",
      "100  386k  100  386k    0     0  1770k      0 --:--:-- --:--:-- --:--:-- 1831k\n"
     ]
    }
   ],
   "source": [
    "!curl -o ads1_week4_reads.fq https://d28rh4a8wq0iu5.cloudfront.net/ads1/data/ads1_week4_reads.fq"
   ]
  },
  {
   "cell_type": "code",
   "execution_count": 19,
   "id": "5d99bbe9-b565-47fd-9845-0bde47837eb7",
   "metadata": {},
   "outputs": [],
   "source": [
    "def readFastq(filename):\n",
    "    \"\"\"Reads the fasta file\"\"\"\n",
    "    sequences = []\n",
    "    qualities = []\n",
    "    with open(filename) as fh:\n",
    "        while True:\n",
    "            fh.readline()  # skip name line\n",
    "            seq = fh.readline().rstrip()  # read base sequence\n",
    "            fh.readline()  # skip placeholder line\n",
    "            qual = fh.readline().rstrip() # base quality line\n",
    "            if len(seq) == 0:\n",
    "                break\n",
    "            sequences.append(seq)\n",
    "            qualities.append(qual)\n",
    "    return sequences, qualities\n",
    "fastq,qual = readFastq('ads1_week4_reads.fq')\n",
    "\n",
    "def overlap_all_pairs(reads, k):\n",
    "    \"\"\"Makes a kmer dictionary of all the reads and then checks for only reads that have a match in the kmer index and retures the overlaps\"\"\"\n",
    "    kmer_dict = {}\n",
    "    for read in reads:\n",
    "        for i in range(len(read) - k + 1):\n",
    "            kmer = read[i:i+k]\n",
    "            if kmer not in kmer_dict:\n",
    "                kmer_dict[kmer] = set()\n",
    "            kmer_dict[kmer].add(read)\n",
    "    \n",
    "    olaps = []\n",
    "    for read in reads:\n",
    "        a = read[-k:]\n",
    "        if a in kmer_dict:\n",
    "            b_set = kmer_dict[a]\n",
    "            for b in b_set:\n",
    "                if b != read:\n",
    "                    olen = overlap(read, b, k)\n",
    "                    if olen > 0:\n",
    "                        olaps.append((read, b))\n",
    "    return olaps\n",
    "\n",
    "def greedy_assemble(reads, k):\n",
    "    \"\"\"Greedy scs algorith using kmer dictionary\"\"\"\n",
    "    reads = set(reads)\n",
    "    while True:\n",
    "        olaps = overlap_all_pairs(reads, k)\n",
    "\n",
    "        if not olaps:\n",
    "            break\n",
    "\n",
    "        max_olen = 0\n",
    "        best_pair = None\n",
    "        for a, b in olaps:\n",
    "            olen = overlap(a, b, min_length=k)\n",
    "            if olen > max_olen:\n",
    "                max_olen = olen\n",
    "                best_pair = (a, b)\n",
    "\n",
    "        if best_pair is None:\n",
    "            break\n",
    "\n",
    "        a, b = best_pair\n",
    "        reads.remove(a)\n",
    "        reads.remove(b)\n",
    "        reads.add(a + b[max_olen:])\n",
    "\n",
    "    return max(reads, key=len)"
   ]
  },
  {
   "cell_type": "code",
   "execution_count": 20,
   "id": "44831b83-8b8d-470e-ad7c-badfe5fa2121",
   "metadata": {},
   "outputs": [
    {
     "name": "stdout",
     "output_type": "stream",
     "text": [
      "Assembled genome length: 15894\n",
      "Number of A's: 4633\n",
      "Number of T's: 3723\n"
     ]
    }
   ],
   "source": [
    "fastq, qual = readFastq('ads1_week4_reads.fq')\n",
    "assembled_genome = greedy_assemble(fastq, k=30)\n",
    "\n",
    "print(f\"Assembled genome length: {len(assembled_genome)}\")\n",
    "print(f\"Number of A's: {assembled_genome.count('A')}\")\n",
    "print(f\"Number of T's: {assembled_genome.count('T')}\")"
   ]
  }
 ],
 "metadata": {
  "kernelspec": {
   "display_name": "Python 3 (ipykernel)",
   "language": "python",
   "name": "python3"
  },
  "language_info": {
   "codemirror_mode": {
    "name": "ipython",
    "version": 3
   },
   "file_extension": ".py",
   "mimetype": "text/x-python",
   "name": "python",
   "nbconvert_exporter": "python",
   "pygments_lexer": "ipython3",
   "version": "3.12.2"
  }
 },
 "nbformat": 4,
 "nbformat_minor": 5
}
