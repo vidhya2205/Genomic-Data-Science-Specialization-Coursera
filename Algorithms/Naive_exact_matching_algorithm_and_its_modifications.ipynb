{
 "cells": [
  {
   "cell_type": "code",
   "execution_count": 3,
   "id": "18bca63a-f3e5-47d8-9398-d14c138de8f6",
   "metadata": {},
   "outputs": [],
   "source": [
    "def naive(p, t):\n",
    "    \"\"\"Normal Naive exact matchng function returing occurances where the pattern p matches to Text t\"\"\"\n",
    "    occurrences = []\n",
    "    for i in range(len(t) - len(p) + 1):  # loop over alignments\n",
    "        match = True\n",
    "        for j in range(len(p)):  # loop over characters\n",
    "            if t[i+j] != p[j]:  # compare characters\n",
    "                match = False\n",
    "                break\n",
    "        if match:\n",
    "            occurrences.append(i)  # all chars matched; record\n",
    "    return occurrences\n",
    "\n",
    "def reverseComplement(s):\n",
    "    \"\"\"Returns the reverse complement of a given sequence\"\"\"\n",
    "    complement = {'A': 'T', 'C': 'G', 'G': 'C', 'T': 'A', 'N': 'N'}\n",
    "    t = ''\n",
    "    for base in s:\n",
    "        t = complement[base] + t\n",
    "    return t\n",
    "\n",
    "def readGenome(filename):\n",
    "    \"\"\"Rading a genome assembly file\"\"\"\n",
    "    genome = ''\n",
    "    with open(filename, 'r') as f:\n",
    "        for line in f:\n",
    "            # ignore header line with genome information\n",
    "            if not line[0] == '>':\n",
    "                genome += line.rstrip()\n",
    "    return genome\n",
    "\n",
    "def readFastq(filename):\n",
    "    \"\"\" Reads a Fasta file\"\"\"\n",
    "    sequences = []\n",
    "    qualities = []\n",
    "    with open(filename) as fh:\n",
    "        while True:\n",
    "            fh.readline()  # skip name line\n",
    "            seq = fh.readline().rstrip()  # read base sequence\n",
    "            fh.readline()  # skip placeholder line\n",
    "            qual = fh.readline().rstrip() # base quality line\n",
    "            if len(seq) == 0:\n",
    "                break\n",
    "            sequences.append(seq)\n",
    "            qualities.append(qual)\n",
    "    return sequences, qualities\n",
    "\n",
    "\n",
    "def naive_with_rc(p, t):\n",
    "    \"\"\"Modified Naive exact matching algorithm returing occurrences of the P and its reverse complement in T.\"\"\"\n",
    "    occurrences = []\n",
    "    pc= reverseComplement(p)\n",
    "    if pc==p:\n",
    "        for i in range(len(t) - len(p) + 1):  # loop over alignments\n",
    "            match = True\n",
    "            for j in range(len(p)):  # loop over characters\n",
    "                if t[i+j] != p[j]:  # compare characters\n",
    "                    match = False\n",
    "                    break\n",
    "            if match:\n",
    "                occurrences.append(i)  # all chars matched; record\n",
    "        return occurrences\n",
    "    else :\n",
    "        for i in range(len(t) - len(p) + 1):  # loop over alignments\n",
    "            match = True\n",
    "            for j in range(len(p)):  # loop over characters\n",
    "                if t[i+j] != p[j]:  # compare characters\n",
    "                    match = False\n",
    "                    break\n",
    "            if match:\n",
    "                occurrences.append(i)  # all chars matched; record\n",
    "        for i in range(len(t) - len(pc) + 1):\n",
    "            match = True\n",
    "            for j in range(len(pc)):\n",
    "                if t[i+j] != pc[j]:\n",
    "                    match = False\n",
    "                    break\n",
    "            if match:\n",
    "                occurrences.append(i)\n",
    "        return occurrences\n",
    "\n",
    "def naive_2mm(p, t):\n",
    "    #Modified Naive exact matching algorithm returing occurrences of the P in T allowing for 2 mismatches.\n",
    "    occurrences = []\n",
    "    for i in range(len(t) - len(p) + 1):  # loop over alignments\n",
    "        mm=0\n",
    "        match = True\n",
    "        for j in range(len(p)):  # loop over characters\n",
    "            if t[i+j] != p[j]:  # compare characters\n",
    "                mm+=1\n",
    "            if mm >2:\n",
    "                match = False\n",
    "                break\n",
    "        if match:\n",
    "            occurrences.append(i)  # all chars matched; record\n",
    "    return occurrences\n",
    "\n",
    "def findGCByPos(reads): #argument is onlt the string of bases(seqs no quality)\n",
    "    ''' Find the GC ratio at each position in the read '''\n",
    "    # Keep track of the number of G/C bases and the total number of bases at each position\n",
    "    gc = [0] * 100 #no. of G/C bases since we know the length of each read - 100 define the size\n",
    "    totals = [0] * 100 # total number of bases at each position\n",
    "    for read in reads:\n",
    "        for i in range(len(read)):\n",
    "            if read[i] == 'C' or read[i] == 'G':\n",
    "                gc[i] += 1\n",
    "            totals[i] += 1\n",
    "    # Divide G/C counts by total counts to get the average at each position\n",
    "    for i in range(len(gc)):\n",
    "        if totals[i] > 0: # if totals is 0 it will give error so\n",
    "            gc[i] /= float(totals[i])\n",
    "    return gc"
   ]
  },
  {
   "cell_type": "code",
   "execution_count": 14,
   "id": "7c881f92-a033-4301-89cc-8b425f68b140",
   "metadata": {},
   "outputs": [
    {
     "name": "stdout",
     "output_type": "stream",
     "text": [
      "Occurances of patter CCC and its reverse complement in AAAAAAAAAACCCAAAAAAAAAAGGGAAAAAAAAAA are at positions: [10, 23]\n",
      "Occurances of patter CGCG and its reverse complement in AAAAAAAAAACGCGAAAAAAAAAACGCGAAAAAAAAAA are at positions: [10, 24]\n",
      "Offset of leftmost occurrence: 10\n",
      "The total number of occurrences: 2\n"
     ]
    }
   ],
   "source": [
    "#Testing the Naive exacting matching considering reverse complements - \n",
    "p = 'CCC'\n",
    "ten_as = 'AAAAAAAAAA'\n",
    "t = ten_as + 'CCC' + ten_as + 'GGG' + ten_as\n",
    "occurrences = naive_with_rc(p, t)\n",
    "print(\"Occurances of patter\",p,\"and its reverse complement in\",t,\"are at positions:\",occurrences) \n",
    "\n",
    "p = 'CGCG'\n",
    "t = ten_as + 'CGCG' + ten_as + 'CGCG' + ten_as\n",
    "occurrences = naive_with_rc(p, t)\n",
    "print(\"Occurances of patter\",p,\"and its reverse complement in\",t,\"are at positions:\",occurrences)\n",
    "\n",
    "#To get the leftmost occurance of a pattern in a text and number of occurances\n",
    "print(\"Offset of leftmost occurrence:\", min(occurrences))\n",
    "print(\"The total number of occurrences:\",len(occurrences))"
   ]
  },
  {
   "cell_type": "code",
   "execution_count": 17,
   "id": "5896571b-20f4-4d60-b17b-da5cde3e3813",
   "metadata": {},
   "outputs": [
    {
     "name": "stdout",
     "output_type": "stream",
     "text": [
      "Occurances of patter CTGT  allowing upto 2 mismatches in AAAAAAAAAACTGTAAAAAAAAAACTTTAAAAAAAAAACGGGAAAAAAAAAA are at positions: [10, 24, 38]\n"
     ]
    }
   ],
   "source": [
    "#Testing the Naive exacting matching allowing 2 mismatches: \n",
    "p = 'CTGT'\n",
    "ten_as = 'AAAAAAAAAA'\n",
    "t = ten_as + 'CTGT' + ten_as + 'CTTT' + ten_as + 'CGGG' + ten_as\n",
    "occurrences = naive_2mm(p, t)\n",
    "print(\"Occurances of patter\",p,\" allowing upto 2 mismatches in\",t,\"are at positions:\",occurrences)"
   ]
  },
  {
   "cell_type": "code",
   "execution_count": 21,
   "id": "df5848a9-7bcc-4408-8cd4-ab62e7c182de",
   "metadata": {},
   "outputs": [
    {
     "name": "stderr",
     "output_type": "stream",
     "text": [
      "  % Total    % Received % Xferd  Average Speed   Time    Time     Time  Current\n",
      "                                 Dload  Upload   Total   Spent    Left  Speed\n",
      "\n",
      "  0     0    0     0    0     0      0      0 --:--:-- --:--:-- --:--:--     0\n",
      "100  235k  100  235k    0     0  1138k      0 --:--:-- --:--:-- --:--:-- 1179k\n"
     ]
    },
    {
     "data": {
      "image/png": "[encoded data removed]",
      "text/plain": [
       "<Figure size 640x480 with 1 Axes>"
      ]
     },
     "metadata": {},
     "output_type": "display_data"
    },
    {
     "name": "stdout",
     "output_type": "stream",
     "text": [
      "abnormal GC content observed in : [66] cycle\n"
     ]
    }
   ],
   "source": [
    "#Checking for low quality and where in the sequence it was observed - \n",
    "!curl -o ERR037900_1.first1000.fastq https://d28rh4a8wq0iu5.cloudfront.net/ads1/data/ERR037900_1.first1000.fastq\n",
    "seqs, quals = readFastq('ERR037900_1.first1000.fastq')\n",
    "\n",
    "gc = findGCByPos(seqs)\n",
    "%matplotlib inline\n",
    "import matplotlib.pyplot as plt\n",
    "plt.plot(range(len(gc)), gc)\n",
    "plt.show()\n",
    "\n",
    "#print(gc) average  GC concent in the graph is between 0.4 to 0.6 hence anything out of this has to be checked for:\n",
    "indices = [i for i, val in enumerate(gc) if val < 0.4]\n",
    "print('abnormal GC content observed in : %s cycle' % indices)"
   ]
  }
 ],
 "metadata": {
  "kernelspec": {
   "display_name": "Python 3 (ipykernel)",
   "language": "python",
   "name": "python3"
  },
  "language_info": {
   "codemirror_mode": {
    "name": "ipython",
    "version": 3
   },
   "file_extension": ".py",
   "mimetype": "text/x-python",
   "name": "python",
   "nbconvert_exporter": "python",
   "pygments_lexer": "ipython3",
   "version": "3.12.2"
  }
 },
 "nbformat": 4,
 "nbformat_minor": 5
}
